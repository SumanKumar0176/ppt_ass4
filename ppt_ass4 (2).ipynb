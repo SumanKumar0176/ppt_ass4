{
 "cells": [
  {
   "cell_type": "code",
   "execution_count": 1,
   "id": "2cb8d80e-fb38-47a8-b5f7-517afdfc5f1d",
   "metadata": {},
   "outputs": [
    {
     "data": {
      "text/plain": [
       "'\\n **Question 1**\\nGiven three integer arrays arr1, arr2 and arr3 **sorted** in **strictly increasing** order, return a sorted array of **only** the integers that appeared in **all** three arrays.\\n\\n**Example 1:**\\n\\nInput: arr1 = [1,2,3,4,5], arr2 = [1,2,5,7,9], arr3 = [1,3,4,5,8]\\n\\nOutput: [1,5]\\n\\n**Explanation:** Only 1 and 5 appeared in the three arrays.\\n\\n'"
      ]
     },
     "execution_count": 1,
     "metadata": {},
     "output_type": "execute_result"
    }
   ],
   "source": [
    "\"\"\"\n",
    " **Question 1**\n",
    "Given three integer arrays arr1, arr2 and arr3 **sorted** in **strictly increasing** order, return a sorted array of **only** the integers that appeared in **all** three arrays.\n",
    "\n",
    "**Example 1:**\n",
    "\n",
    "Input: arr1 = [1,2,3,4,5], arr2 = [1,2,5,7,9], arr3 = [1,3,4,5,8]\n",
    "\n",
    "Output: [1,5]\n",
    "\n",
    "**Explanation:** Only 1 and 5 appeared in the three arrays.\n",
    "\n",
    "\"\"\""
   ]
  },
  {
   "cell_type": "code",
   "execution_count": 2,
   "id": "4d3a2be6-2b5d-4387-9b46-5ef5276909bb",
   "metadata": {},
   "outputs": [],
   "source": [
    "def find_common_elements(arr1, arr2, arr3):\n",
    "    p1 = p2 = p3 = 0\n",
    "    result = []\n",
    "\n",
    "    while p1 < len(arr1) and p2 < len(arr2) and p3 < len(arr3):\n",
    "        if arr1[p1] == arr2[p2] == arr3[p3]:\n",
    "            result.append(arr1[p1])\n",
    "            p1 += 1\n",
    "            p2 += 1\n",
    "            p3 += 1\n",
    "        elif arr1[p1] < max(arr2[p2], arr3[p3]):\n",
    "            p1 += 1\n",
    "        elif arr2[p2] < max(arr1[p1], arr3[p3]):\n",
    "            p2 += 1\n",
    "        else:\n",
    "            p3 += 1\n",
    "\n",
    "    return result\n"
   ]
  },
  {
   "cell_type": "code",
   "execution_count": 3,
   "id": "395bc178-cf35-4a8b-a41d-a8e33cf21e74",
   "metadata": {},
   "outputs": [
    {
     "name": "stdout",
     "output_type": "stream",
     "text": [
      "[1, 5]\n"
     ]
    }
   ],
   "source": [
    "arr1 = [1,2,3,4,5]\n",
    "arr2 = [1,2,5,7,9]\n",
    "arr3 = [1,3,4,5,8]\n",
    "result = find_common_elements(arr1, arr2, arr3)\n",
    "print(result)  # Output: [1, 5]\n"
   ]
  },
  {
   "cell_type": "code",
   "execution_count": 4,
   "id": "66bb5b00-6e25-46f2-b50b-9b5fadc69015",
   "metadata": {},
   "outputs": [
    {
     "data": {
      "text/plain": [
       "'\\n **Question 2**\\n\\nGiven two **0-indexed** integer arrays nums1 and nums2, return *a list* answer *of size* 2 *where:*\\n\\n- answer[0] *is a list of all **distinct** integers in* nums1 *which are **not** present in* nums2*.*\\n- answer[1] *is a list of all **distinct** integers in* nums2 *which are **not** present in* nums1.\\n\\n**Note** that the integers in the lists may be returned in **any** order.\\n\\n**Example 1:**\\n\\n**Input:** nums1 = [1,2,3], nums2 = [2,4,6]\\n\\n**Output:** [[1,3],[4,6]]\\n\\n**Explanation:**\\n\\nFor nums1, nums1[1] = 2 is present at index 0 of nums2, whereas nums1[0] = 1 and nums1[2] = 3 are not present in nums2. Therefore, answer[0] = [1,3].\\n\\nFor nums2, nums2[0] = 2 is present at index 1 of nums1, whereas nums2[1] = 4 and nums2[2] = 6 are not present in nums2. Therefore, answer[1] = [4,6].\\n\\n'"
      ]
     },
     "execution_count": 4,
     "metadata": {},
     "output_type": "execute_result"
    }
   ],
   "source": [
    "\"\"\"\n",
    " **Question 2**\n",
    "\n",
    "Given two **0-indexed** integer arrays nums1 and nums2, return *a list* answer *of size* 2 *where:*\n",
    "\n",
    "- answer[0] *is a list of all **distinct** integers in* nums1 *which are **not** present in* nums2*.*\n",
    "- answer[1] *is a list of all **distinct** integers in* nums2 *which are **not** present in* nums1.\n",
    "\n",
    "**Note** that the integers in the lists may be returned in **any** order.\n",
    "\n",
    "**Example 1:**\n",
    "\n",
    "**Input:** nums1 = [1,2,3], nums2 = [2,4,6]\n",
    "\n",
    "**Output:** [[1,3],[4,6]]\n",
    "\n",
    "**Explanation:**\n",
    "\n",
    "For nums1, nums1[1] = 2 is present at index 0 of nums2, whereas nums1[0] = 1 and nums1[2] = 3 are not present in nums2. Therefore, answer[0] = [1,3].\n",
    "\n",
    "For nums2, nums2[0] = 2 is present at index 1 of nums1, whereas nums2[1] = 4 and nums2[2] = 6 are not present in nums2. Therefore, answer[1] = [4,6].\n",
    "\n",
    "\"\"\""
   ]
  },
  {
   "cell_type": "code",
   "execution_count": 5,
   "id": "7861202e-68bf-427e-840b-17fa6dec52da",
   "metadata": {},
   "outputs": [],
   "source": [
    "def find_disjoint_arrays(nums1, nums2):\n",
    "    set1 = set(nums1)\n",
    "    set2 = set(nums2)\n",
    "    result1 = list(set1 - set2)\n",
    "    result2 = list(set2 - set1)\n",
    "    return [result1, result2]\n"
   ]
  },
  {
   "cell_type": "code",
   "execution_count": 6,
   "id": "b8fa1b76-8360-4d41-a3aa-00c7b59d5b1c",
   "metadata": {},
   "outputs": [
    {
     "name": "stdout",
     "output_type": "stream",
     "text": [
      "[[1, 3], [4, 6]]\n"
     ]
    }
   ],
   "source": [
    "nums1 = [1, 2, 3]\n",
    "nums2 = [2, 4, 6]\n",
    "result = find_disjoint_arrays(nums1, nums2)\n",
    "print(result)  # Output: [[1, 3], [4, 6]]\n"
   ]
  },
  {
   "cell_type": "code",
   "execution_count": 7,
   "id": "9564deb6-8334-44e5-a117-cbbcda89b172",
   "metadata": {},
   "outputs": [
    {
     "data": {
      "text/plain": [
       "\"\\n **Question 3**\\nGiven a 2D integer array matrix, return *the **transpose** of* matrix.\\n\\nThe **transpose** of a matrix is the matrix flipped over its main diagonal, switching the matrix's row and column indices.\\n\\n**Example 1:**\\n\\nInput: matrix = [[1,2,3],[4,5,6],[7,8,9]]\\n\\nOutput: [[1,4,7],[2,5,8],[3,6,9]]\\n\\n\""
      ]
     },
     "execution_count": 7,
     "metadata": {},
     "output_type": "execute_result"
    }
   ],
   "source": [
    "\"\"\"\n",
    " **Question 3**\n",
    "Given a 2D integer array matrix, return *the **transpose** of* matrix.\n",
    "\n",
    "The **transpose** of a matrix is the matrix flipped over its main diagonal, switching the matrix's row and column indices.\n",
    "\n",
    "**Example 1:**\n",
    "\n",
    "Input: matrix = [[1,2,3],[4,5,6],[7,8,9]]\n",
    "\n",
    "Output: [[1,4,7],[2,5,8],[3,6,9]]\n",
    "\n",
    "\"\"\""
   ]
  },
  {
   "cell_type": "code",
   "execution_count": 8,
   "id": "377203fe-0fde-4243-bbf7-4521c22b3fa4",
   "metadata": {},
   "outputs": [],
   "source": [
    "def transpose(matrix):\n",
    "    rows = len(matrix)\n",
    "    cols = len(matrix[0])\n",
    "\n",
    "    result = [[0] * rows for _ in range(cols)]\n",
    "\n",
    "    for i in range(rows):\n",
    "        for j in range(cols):\n",
    "            result[j][i] = matrix[i][j]\n",
    "\n",
    "    return result\n"
   ]
  },
  {
   "cell_type": "code",
   "execution_count": 9,
   "id": "bcd879c6-deba-427a-9b34-ed0c1c4d7d46",
   "metadata": {},
   "outputs": [
    {
     "name": "stdout",
     "output_type": "stream",
     "text": [
      "[[1, 4, 7], [2, 5, 8], [3, 6, 9]]\n"
     ]
    }
   ],
   "source": [
    "matrix = [[1, 2, 3], [4, 5, 6], [7, 8, 9]]\n",
    "result = transpose(matrix)\n",
    "print(result)  # Output: [[1, 4, 7], [2, 5, 8], [3, 6, 9]]\n"
   ]
  },
  {
   "cell_type": "code",
   "execution_count": 10,
   "id": "fd6cc48f-21eb-4fb2-a6eb-a30a4cb3cd23",
   "metadata": {},
   "outputs": [
    {
     "data": {
      "text/plain": [
       "'\\n **Question 4**\\nGiven an integer array nums of 2n integers, group these integers into n pairs (a1, b1), (a2, b2), ..., (an, bn) such that the sum of min(ai, bi) for all i is **maximized**. Return *the maximized sum*.\\n\\n**Example 1:**\\n\\nInput: nums = [1,4,3,2]\\n\\nOutput: 4\\n\\n**Explanation:** All possible pairings (ignoring the ordering of elements) are:\\n\\n1. (1, 4), (2, 3) -> min(1, 4) + min(2, 3) = 1 + 2 = 3\\n\\n2. (1, 3), (2, 4) -> min(1, 3) + min(2, 4) = 1 + 2 = 3\\n\\n3. (1, 2), (3, 4) -> min(1, 2) + min(3, 4) = 1 + 3 = 4\\n\\nSo the maximum possible sum is 4.\\n\\n'"
      ]
     },
     "execution_count": 10,
     "metadata": {},
     "output_type": "execute_result"
    }
   ],
   "source": [
    "\"\"\"\n",
    " **Question 4**\n",
    "Given an integer array nums of 2n integers, group these integers into n pairs (a1, b1), (a2, b2), ..., (an, bn) such that the sum of min(ai, bi) for all i is **maximized**. Return *the maximized sum*.\n",
    "\n",
    "**Example 1:**\n",
    "\n",
    "Input: nums = [1,4,3,2]\n",
    "\n",
    "Output: 4\n",
    "\n",
    "**Explanation:** All possible pairings (ignoring the ordering of elements) are:\n",
    "\n",
    "1. (1, 4), (2, 3) -> min(1, 4) + min(2, 3) = 1 + 2 = 3\n",
    "\n",
    "2. (1, 3), (2, 4) -> min(1, 3) + min(2, 4) = 1 + 2 = 3\n",
    "\n",
    "3. (1, 2), (3, 4) -> min(1, 2) + min(3, 4) = 1 + 3 = 4\n",
    "\n",
    "So the maximum possible sum is 4.\n",
    "\n",
    "\"\"\""
   ]
  },
  {
   "cell_type": "code",
   "execution_count": 11,
   "id": "06816603-bb4d-4c47-a88a-73ac460d7586",
   "metadata": {},
   "outputs": [],
   "source": [
    "def array_pair_sum(nums):\n",
    "    nums.sort()\n",
    "    max_sum = 0\n",
    "    for i in range(0, len(nums), 2):\n",
    "        max_sum += nums[i]\n",
    "    return max_sum\n"
   ]
  },
  {
   "cell_type": "code",
   "execution_count": 12,
   "id": "b22aac9d-9097-47fb-9281-950d8d9e62e8",
   "metadata": {},
   "outputs": [
    {
     "name": "stdout",
     "output_type": "stream",
     "text": [
      "4\n"
     ]
    }
   ],
   "source": [
    "nums = [1, 4, 3, 2]\n",
    "max_sum = array_pair_sum(nums)\n",
    "print(max_sum)  # Output: 4\n"
   ]
  },
  {
   "cell_type": "code",
   "execution_count": 13,
   "id": "aa6502ef-7127-4dcc-9eb9-86e231fad07c",
   "metadata": {},
   "outputs": [
    {
     "data": {
      "text/plain": [
       "'\\n **Question 5**\\nYou have n coins and you want to build a staircase with these coins. The staircase consists of k rows where the ith row has exactly i coins. The last row of the staircase **may be** incomplete.\\n\\nGiven the integer n, return *the number of **complete rows** of the staircase you will build*.\\n\\n**Example 1:**\\n\\n[]()\\n\\n![v2.jpg](https://s3-us-west-2.amazonaws.com/secure.notion-static.com/4bd91cfa-d2b1-47b3-8197-a72e8dcfff4b/v2.jpg)\\n\\n**Input:** n = 5\\n\\n**Output:** 2\\n\\n**Explanation:** Because the 3rd row is incomplete, we return 2.\\n\\n'"
      ]
     },
     "execution_count": 13,
     "metadata": {},
     "output_type": "execute_result"
    }
   ],
   "source": [
    "\"\"\"\n",
    " **Question 5**\n",
    "You have n coins and you want to build a staircase with these coins. The staircase consists of k rows where the ith row has exactly i coins. The last row of the staircase **may be** incomplete.\n",
    "\n",
    "Given the integer n, return *the number of **complete rows** of the staircase you will build*.\n",
    "\n",
    "**Example 1:**\n",
    "\n",
    "[]()\n",
    "\n",
    "![v2.jpg](https://s3-us-west-2.amazonaws.com/secure.notion-static.com/4bd91cfa-d2b1-47b3-8197-a72e8dcfff4b/v2.jpg)\n",
    "\n",
    "**Input:** n = 5\n",
    "\n",
    "**Output:** 2\n",
    "\n",
    "**Explanation:** Because the 3rd row is incomplete, we return 2.\n",
    "\n",
    "\"\"\""
   ]
  },
  {
   "cell_type": "code",
   "execution_count": 16,
   "id": "1137fb30-eca7-4915-94f2-79c8b4d2dada",
   "metadata": {},
   "outputs": [],
   "source": [
    "def arrange_coins(n):\n",
    "    left = 1\n",
    "    right = n\n",
    "\n",
    "    while left <= right:\n",
    "        mid = (left + right) // 2\n",
    "        total = mid * (mid + 1) // 2\n",
    "\n",
    "        if total <= n:\n",
    "            left = mid + 1\n",
    "        else:\n",
    "            right = mid - 1\n",
    "\n",
    "    return right\n",
    "\n"
   ]
  },
  {
   "cell_type": "code",
   "execution_count": 17,
   "id": "d797d812-8568-4e62-8ae1-715d7964dc57",
   "metadata": {},
   "outputs": [
    {
     "name": "stdout",
     "output_type": "stream",
     "text": [
      "2\n"
     ]
    }
   ],
   "source": [
    "n = 5\n",
    "num_complete_rows = arrange_coins(n)\n",
    "print(num_complete_rows)  # Output: 2\n"
   ]
  },
  {
   "cell_type": "code",
   "execution_count": 18,
   "id": "ec10320d-e544-4980-8ae7-394dcd139d30",
   "metadata": {},
   "outputs": [
    {
     "data": {
      "text/plain": [
       "'\\n **Question 6**\\nGiven an integer array nums sorted in **non-decreasing** order, return *an array of **the squares of each number** sorted in non-decreasing order*.\\n\\n**Example 1:**\\n\\nInput: nums = [-4,-1,0,3,10]\\n\\nOutput: [0,1,9,16,100]\\n\\n**Explanation:** After squaring, the array becomes [16,1,0,9,100].\\nAfter sorting, it becomes [0,1,9,16,100]\\n\\n'"
      ]
     },
     "execution_count": 18,
     "metadata": {},
     "output_type": "execute_result"
    }
   ],
   "source": [
    "\"\"\"\n",
    " **Question 6**\n",
    "Given an integer array nums sorted in **non-decreasing** order, return *an array of **the squares of each number** sorted in non-decreasing order*.\n",
    "\n",
    "**Example 1:**\n",
    "\n",
    "Input: nums = [-4,-1,0,3,10]\n",
    "\n",
    "Output: [0,1,9,16,100]\n",
    "\n",
    "**Explanation:** After squaring, the array becomes [16,1,0,9,100].\n",
    "After sorting, it becomes [0,1,9,16,100]\n",
    "\n",
    "\"\"\""
   ]
  },
  {
   "cell_type": "code",
   "execution_count": 19,
   "id": "02cb087c-9702-45e0-a088-23fdbe1119d3",
   "metadata": {},
   "outputs": [],
   "source": [
    "def sorted_squares(nums):\n",
    "    result = []\n",
    "    for num in nums:\n",
    "        result.append(num * num)\n",
    "    result.sort()\n",
    "    return result\n"
   ]
  },
  {
   "cell_type": "code",
   "execution_count": 20,
   "id": "4e2210d5-3320-4137-9559-717e27c42b31",
   "metadata": {},
   "outputs": [
    {
     "name": "stdout",
     "output_type": "stream",
     "text": [
      "[0, 1, 9, 16, 100]\n"
     ]
    }
   ],
   "source": [
    "nums = [-4, -1, 0, 3, 10]\n",
    "result = sorted_squares(nums)\n",
    "print(result)  # Output: [0, 1, 9, 16, 100]\n"
   ]
  },
  {
   "cell_type": "code",
   "execution_count": 21,
   "id": "899c6230-0ae3-4937-9a01-4c017be7b514",
   "metadata": {},
   "outputs": [
    {
     "data": {
      "text/plain": [
       "\"\\n **Question 7**\\nYou are given an m x n matrix M initialized with all 0's and an array of operations ops, where ops[i] = [ai, bi] means M[x][y] should be incremented by one for all 0 <= x < ai and 0 <= y < bi.\\n\\nCount and return *the number of maximum integers in the matrix after performing all the operations*\\n\\n\""
      ]
     },
     "execution_count": 21,
     "metadata": {},
     "output_type": "execute_result"
    }
   ],
   "source": [
    "\"\"\"\n",
    " **Question 7**\n",
    "You are given an m x n matrix M initialized with all 0's and an array of operations ops, where ops[i] = [ai, bi] means M[x][y] should be incremented by one for all 0 <= x < ai and 0 <= y < bi.\n",
    "\n",
    "Count and return *the number of maximum integers in the matrix after performing all the operations*\n",
    "\n",
    "\"\"\""
   ]
  },
  {
   "cell_type": "code",
   "execution_count": 22,
   "id": "494743d6-c431-40ce-a58b-bf2bf8f9a7ed",
   "metadata": {},
   "outputs": [],
   "source": [
    "def max_count(m, n, ops):\n",
    "    min_row = m\n",
    "    min_col = n\n",
    "\n",
    "    for op in ops:\n",
    "        min_row = min(min_row, op[0])\n",
    "        min_col = min(min_col, op[1])\n",
    "\n",
    "    return min_row * min_col\n"
   ]
  },
  {
   "cell_type": "code",
   "execution_count": 23,
   "id": "840ee145-f41e-4f7c-bf01-e9508bf65160",
   "metadata": {},
   "outputs": [
    {
     "name": "stdout",
     "output_type": "stream",
     "text": [
      "4\n"
     ]
    }
   ],
   "source": [
    "m = 3\n",
    "n = 3\n",
    "ops = [[2, 2], [3, 3]]\n",
    "max_integers = max_count(m, n, ops)\n",
    "print(max_integers)  # Output: 4\n"
   ]
  },
  {
   "cell_type": "code",
   "execution_count": null,
   "id": "ab33e766-f754-4e2d-93b2-7d5425172ab6",
   "metadata": {},
   "outputs": [],
   "source": []
  }
 ],
 "metadata": {
  "kernelspec": {
   "display_name": "Python 3 (ipykernel)",
   "language": "python",
   "name": "python3"
  },
  "language_info": {
   "codemirror_mode": {
    "name": "ipython",
    "version": 3
   },
   "file_extension": ".py",
   "mimetype": "text/x-python",
   "name": "python",
   "nbconvert_exporter": "python",
   "pygments_lexer": "ipython3",
   "version": "3.10.6"
  }
 },
 "nbformat": 4,
 "nbformat_minor": 5
}
